{
 "cells": [
  {
   "cell_type": "code",
   "execution_count": 4,
   "id": "791c6761",
   "metadata": {},
   "outputs": [],
   "source": [
    "import sys\n",
    "sys.path.append('../')\n",
    "\n",
    "from real_data import RealData\n",
    "from localize import Localize\n",
    "\n",
    "import cv2\n",
    "from IPython import display"
   ]
  },
  {
   "cell_type": "code",
   "execution_count": 5,
   "id": "bcc3bea4",
   "metadata": {},
   "outputs": [
    {
     "ename": "FileNotFoundError",
     "evalue": "[Errno 2] No such file or directory: 'D:\\\\College\\\\Senior 1\\\\semester_8\\\\Computer Vision\\\\Project\\\\notebooks\\\\training.json'",
     "output_type": "error",
     "traceback": [
      "\u001b[1;31m---------------------------------------------------------------------------\u001b[0m",
      "\u001b[1;31mFileNotFoundError\u001b[0m                         Traceback (most recent call last)",
      "Cell \u001b[1;32mIn[5], line 1\u001b[0m\n\u001b[1;32m----> 1\u001b[0m training_data \u001b[38;5;241m=\u001b[39m \u001b[43mRealData\u001b[49m\u001b[43m(\u001b[49m\u001b[43m)\u001b[49m\u001b[38;5;241;43m.\u001b[39;49m\u001b[43mread_json\u001b[49m\u001b[43m(\u001b[49m\u001b[43mfile_name\u001b[49m\u001b[38;5;241;43m=\u001b[39;49m\u001b[38;5;124;43m'\u001b[39;49m\u001b[38;5;124;43mtraining.json\u001b[39;49m\u001b[38;5;124;43m'\u001b[39;49m\u001b[43m)\u001b[49m\n",
      "File \u001b[1;32mD:\\College\\Senior 1\\semester_8\\Computer Vision\\Project\\real_data.py:8\u001b[0m, in \u001b[0;36mRealData.read_json\u001b[1;34m(file_name)\u001b[0m\n\u001b[0;32m      6\u001b[0m \u001b[38;5;129m@staticmethod\u001b[39m\n\u001b[0;32m      7\u001b[0m \u001b[38;5;28;01mdef\u001b[39;00m \u001b[38;5;21mread_json\u001b[39m(file_name: \u001b[38;5;28mstr\u001b[39m):\n\u001b[1;32m----> 8\u001b[0m     f \u001b[38;5;241m=\u001b[39m \u001b[38;5;28;43mopen\u001b[39;49m\u001b[43m(\u001b[49m\u001b[43mos\u001b[49m\u001b[38;5;241;43m.\u001b[39;49m\u001b[43mpath\u001b[49m\u001b[38;5;241;43m.\u001b[39;49m\u001b[43mabspath\u001b[49m\u001b[43m(\u001b[49m\u001b[43mfile_name\u001b[49m\u001b[43m)\u001b[49m\u001b[43m,\u001b[49m\u001b[43m \u001b[49m\u001b[43m)\u001b[49m\n\u001b[0;32m      9\u001b[0m     data \u001b[38;5;241m=\u001b[39m json\u001b[38;5;241m.\u001b[39mload(f)\n\u001b[0;32m     11\u001b[0m     \u001b[38;5;28;01mreturn\u001b[39;00m data\n",
      "\u001b[1;31mFileNotFoundError\u001b[0m: [Errno 2] No such file or directory: 'D:\\\\College\\\\Senior 1\\\\semester_8\\\\Computer Vision\\\\Project\\\\notebooks\\\\training.json'"
     ]
    }
   ],
   "source": [
    "training_data = RealData().read_json(file_name='training.json')"
   ]
  },
  {
   "cell_type": "code",
   "execution_count": 3,
   "id": "a2b7c7e8",
   "metadata": {},
   "outputs": [
    {
     "ename": "NameError",
     "evalue": "name 'training_data' is not defined",
     "output_type": "error",
     "traceback": [
      "\u001b[1;31m---------------------------------------------------------------------------\u001b[0m",
      "\u001b[1;31mNameError\u001b[0m                                 Traceback (most recent call last)",
      "Cell \u001b[1;32mIn[3], line 1\u001b[0m\n\u001b[1;32m----> 1\u001b[0m \u001b[38;5;28;01mfor\u001b[39;00m i \u001b[38;5;129;01min\u001b[39;00m \u001b[38;5;28mrange\u001b[39m(\u001b[38;5;28mlen\u001b[39m(\u001b[43mtraining_data\u001b[49m)):\n\u001b[0;32m      2\u001b[0m \n\u001b[0;32m      3\u001b[0m     \u001b[38;5;66;03m# retrieving each struct (image info)\u001b[39;00m\n\u001b[0;32m      4\u001b[0m     image_struct \u001b[38;5;241m=\u001b[39m training_data[i]\n\u001b[0;32m      6\u001b[0m     \u001b[38;5;66;03m# editing the filename to be the file path\u001b[39;00m\n",
      "\u001b[1;31mNameError\u001b[0m: name 'training_data' is not defined"
     ]
    }
   ],
   "source": [
    "    for i in range(len(training_data)):\n",
    "\n",
    "        # retrieving each struct (image info)\n",
    "        image_struct = training_data[i]\n",
    "\n",
    "        # editing the filename to be the file path\n",
    "        image_struct['filename'] = 'train/' + image_struct['filename']\n",
    "\n",
    "        # updating the value of the struct\n",
    "        training_data[i] = image_struct\n",
    "\n",
    "    # printing the length of the json object (digitStruct)\n",
    "    print(len(training_data))"
   ]
  },
  {
   "cell_type": "code",
   "execution_count": null,
   "id": "90d2b857",
   "metadata": {},
   "outputs": [],
   "source": [
    "# Localize().localize_digits(training_data=training_data)\n",
    "\n",
    "i = cv2.imread('train/2.png')\n",
    "\n",
    "display.Image(i)"
   ]
  }
 ],
 "metadata": {
  "kernelspec": {
   "display_name": "Python 3 (ipykernel)",
   "language": "python",
   "name": "python3"
  },
  "language_info": {
   "codemirror_mode": {
    "name": "ipython",
    "version": 3
   },
   "file_extension": ".py",
   "mimetype": "text/x-python",
   "name": "python",
   "nbconvert_exporter": "python",
   "pygments_lexer": "ipython3",
   "version": "3.8.0"
  }
 },
 "nbformat": 4,
 "nbformat_minor": 5
}
